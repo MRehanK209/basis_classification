{
 "cells": [
  {
   "cell_type": "code",
   "execution_count": 2,
   "id": "04c0da64",
   "metadata": {},
   "outputs": [],
   "source": [
    "import pandas as pd\n",
    "import matplotlib.pyplot as plt\n",
    "import seaborn as sns\n",
    "from collections import Counter\n",
    "from itertools import combinations\n",
    "import numpy as np\n",
    "import os\n",
    "import json"
   ]
  },
  {
   "cell_type": "code",
   "execution_count": 3,
   "id": "8119eee3",
   "metadata": {},
   "outputs": [
    {
     "name": "stdout",
     "output_type": "stream",
     "text": [
      "['k10plus_2016_books.csv', 'k10plus_2010_books.csv', 'k10plus_2013_books.csv', 'k10plus_2014_books.csv', 'k10plus_2011_books.csv', 'k10plus_2012_books.csv', 'k10plus_2018_books.csv', 'k10plus_2020_books.csv', 'k10plus_2019_books.csv', 'k10plus_2017_books.csv', 'k10plus_2015_books.csv']\n"
     ]
    }
   ],
   "source": [
    "\n",
    "# Define the path to your folder\n",
    "folder_path = '/cephfs/users/bashir/basis_classification/k10plus_2010_to_2020'\n",
    "\n",
    "# List all CSV files in the folder\n",
    "csv_files = [f for f in os.listdir(folder_path) if f.endswith('.csv')]\n",
    "\n",
    "print(csv_files)\n"
   ]
  },
  {
   "cell_type": "code",
   "execution_count": 4,
   "id": "ebbe774e",
   "metadata": {},
   "outputs": [
    {
     "name": "stdout",
     "output_type": "stream",
     "text": [
      "Reading data for file k10plus_2016_books.csv\n"
     ]
    },
    {
     "name": "stderr",
     "output_type": "stream",
     "text": [
      "/tmp/ipykernel_3926927/1553341569.py:8: DtypeWarning: Columns (3,5,6) have mixed types. Specify dtype option on import or set low_memory=False.\n",
      "  df = pd.read_csv(file_path)\n"
     ]
    },
    {
     "name": "stdout",
     "output_type": "stream",
     "text": [
      "Reading data for file k10plus_2010_books.csv\n"
     ]
    },
    {
     "name": "stderr",
     "output_type": "stream",
     "text": [
      "/tmp/ipykernel_3926927/1553341569.py:8: DtypeWarning: Columns (3) have mixed types. Specify dtype option on import or set low_memory=False.\n",
      "  df = pd.read_csv(file_path)\n"
     ]
    },
    {
     "name": "stdout",
     "output_type": "stream",
     "text": [
      "Reading data for file k10plus_2013_books.csv\n"
     ]
    },
    {
     "name": "stderr",
     "output_type": "stream",
     "text": [
      "/tmp/ipykernel_3926927/1553341569.py:8: DtypeWarning: Columns (3,5,6) have mixed types. Specify dtype option on import or set low_memory=False.\n",
      "  df = pd.read_csv(file_path)\n"
     ]
    },
    {
     "name": "stdout",
     "output_type": "stream",
     "text": [
      "Reading data for file k10plus_2014_books.csv\n"
     ]
    },
    {
     "name": "stderr",
     "output_type": "stream",
     "text": [
      "/tmp/ipykernel_3926927/1553341569.py:8: DtypeWarning: Columns (3,5,6) have mixed types. Specify dtype option on import or set low_memory=False.\n",
      "  df = pd.read_csv(file_path)\n"
     ]
    },
    {
     "name": "stdout",
     "output_type": "stream",
     "text": [
      "Reading data for file k10plus_2011_books.csv\n"
     ]
    },
    {
     "name": "stderr",
     "output_type": "stream",
     "text": [
      "/tmp/ipykernel_3926927/1553341569.py:8: DtypeWarning: Columns (3) have mixed types. Specify dtype option on import or set low_memory=False.\n",
      "  df = pd.read_csv(file_path)\n"
     ]
    },
    {
     "name": "stdout",
     "output_type": "stream",
     "text": [
      "Reading data for file k10plus_2012_books.csv\n"
     ]
    },
    {
     "name": "stderr",
     "output_type": "stream",
     "text": [
      "/tmp/ipykernel_3926927/1553341569.py:8: DtypeWarning: Columns (3,5,6) have mixed types. Specify dtype option on import or set low_memory=False.\n",
      "  df = pd.read_csv(file_path)\n"
     ]
    },
    {
     "name": "stdout",
     "output_type": "stream",
     "text": [
      "Reading data for file k10plus_2018_books.csv\n"
     ]
    },
    {
     "name": "stderr",
     "output_type": "stream",
     "text": [
      "/tmp/ipykernel_3926927/1553341569.py:8: DtypeWarning: Columns (3,5,6) have mixed types. Specify dtype option on import or set low_memory=False.\n",
      "  df = pd.read_csv(file_path)\n"
     ]
    },
    {
     "name": "stdout",
     "output_type": "stream",
     "text": [
      "Reading data for file k10plus_2020_books.csv\n"
     ]
    },
    {
     "name": "stderr",
     "output_type": "stream",
     "text": [
      "/tmp/ipykernel_3926927/1553341569.py:8: DtypeWarning: Columns (3) have mixed types. Specify dtype option on import or set low_memory=False.\n",
      "  df = pd.read_csv(file_path)\n"
     ]
    },
    {
     "name": "stdout",
     "output_type": "stream",
     "text": [
      "Reading data for file k10plus_2019_books.csv\n"
     ]
    },
    {
     "name": "stderr",
     "output_type": "stream",
     "text": [
      "/tmp/ipykernel_3926927/1553341569.py:8: DtypeWarning: Columns (3,5,6) have mixed types. Specify dtype option on import or set low_memory=False.\n",
      "  df = pd.read_csv(file_path)\n"
     ]
    },
    {
     "name": "stdout",
     "output_type": "stream",
     "text": [
      "Reading data for file k10plus_2017_books.csv\n"
     ]
    },
    {
     "name": "stderr",
     "output_type": "stream",
     "text": [
      "/tmp/ipykernel_3926927/1553341569.py:8: DtypeWarning: Columns (3,5,6) have mixed types. Specify dtype option on import or set low_memory=False.\n",
      "  df = pd.read_csv(file_path)\n"
     ]
    },
    {
     "name": "stdout",
     "output_type": "stream",
     "text": [
      "Reading data for file k10plus_2015_books.csv\n"
     ]
    },
    {
     "name": "stderr",
     "output_type": "stream",
     "text": [
      "/tmp/ipykernel_3926927/1553341569.py:8: DtypeWarning: Columns (3,5,6) have mixed types. Specify dtype option on import or set low_memory=False.\n",
      "  df = pd.read_csv(file_path)\n"
     ]
    },
    {
     "data": {
      "text/plain": [
       "(251172, 11)"
      ]
     },
     "execution_count": 4,
     "metadata": {},
     "output_type": "execute_result"
    }
   ],
   "source": [
    "# Initialize an empty list to hold the DataFrames\n",
    "dfs = []\n",
    "\n",
    "# Loop through each CSV file and read it into a DataFrame\n",
    "for file in csv_files:\n",
    "    file_path = os.path.join(folder_path, file)\n",
    "    print(f\"Reading data for file {file}\")\n",
    "    df = pd.read_csv(file_path)\n",
    "    df = df[~df['BK'].isna()]\n",
    "    dfs.append(df)\n",
    "\n",
    "# Concatenate all DataFrames into a single DataFrame\n",
    "final_df = pd.concat(dfs, ignore_index=True)\n",
    "\n",
    "final_df.shape\n"
   ]
  },
  {
   "cell_type": "code",
   "execution_count": 5,
   "id": "b8570d93",
   "metadata": {},
   "outputs": [
    {
     "name": "stdout",
     "output_type": "stream",
     "text": [
      "<class 'pandas.core.frame.DataFrame'>\n",
      "RangeIndex: 251172 entries, 0 to 251171\n",
      "Data columns (total 11 columns):\n",
      " #   Column        Non-Null Count   Dtype \n",
      "---  ------        --------------   ----- \n",
      " 0   PPN           251172 non-null  object\n",
      " 1   Title         249465 non-null  object\n",
      " 2   Author        41368 non-null   object\n",
      " 3   Year          251172 non-null  object\n",
      " 4   Summary       102722 non-null  object\n",
      " 5   Work-1        2 non-null       object\n",
      " 6   Work-2        2 non-null       object\n",
      " 7   Keywords      141548 non-null  object\n",
      " 8   LOC_Keywords  104460 non-null  object\n",
      " 9   RVK           124773 non-null  object\n",
      " 10  BK            251172 non-null  object\n",
      "dtypes: object(11)\n",
      "memory usage: 21.1+ MB\n"
     ]
    }
   ],
   "source": [
    "final_df.info()"
   ]
  },
  {
   "cell_type": "code",
   "execution_count": 6,
   "id": "17a0ef2d",
   "metadata": {},
   "outputs": [],
   "source": [
    "final_df.drop(columns=['Work-2','Work-1'], inplace=True)\n",
    "\n"
   ]
  },
  {
   "cell_type": "code",
   "execution_count": 7,
   "id": "5bf193fb",
   "metadata": {},
   "outputs": [
    {
     "data": {
      "text/html": [
       "<div>\n",
       "<style scoped>\n",
       "    .dataframe tbody tr th:only-of-type {\n",
       "        vertical-align: middle;\n",
       "    }\n",
       "\n",
       "    .dataframe tbody tr th {\n",
       "        vertical-align: top;\n",
       "    }\n",
       "\n",
       "    .dataframe thead th {\n",
       "        text-align: right;\n",
       "    }\n",
       "</style>\n",
       "<table border=\"1\" class=\"dataframe\">\n",
       "  <thead>\n",
       "    <tr style=\"text-align: right;\">\n",
       "      <th></th>\n",
       "      <th>PPN</th>\n",
       "      <th>Title</th>\n",
       "      <th>Author</th>\n",
       "      <th>Year</th>\n",
       "      <th>Summary</th>\n",
       "      <th>Keywords</th>\n",
       "      <th>LOC_Keywords</th>\n",
       "      <th>RVK</th>\n",
       "      <th>BK</th>\n",
       "      <th>BK_split</th>\n",
       "      <th>BK_all_numeric</th>\n",
       "    </tr>\n",
       "  </thead>\n",
       "  <tbody>\n",
       "    <tr>\n",
       "      <th>105504</th>\n",
       "      <td>1655338080</td>\n",
       "      <td>Campus und Profession - Pfarrdienst in der Eva...</td>\n",
       "      <td>NaN</td>\n",
       "      <td>2012</td>\n",
       "      <td>Die evangelischen Studierendengemeinden (ESG) ...</td>\n",
       "      <td>NaN</td>\n",
       "      <td>NaN</td>\n",
       "      <td>Studentengemeinde/Studentenmission</td>\n",
       "      <td>2DEsl|11.76|81.80|11.55</td>\n",
       "      <td>[2DEsl, 11.76, 81.80, 11.55]</td>\n",
       "      <td>False</td>\n",
       "    </tr>\n",
       "    <tr>\n",
       "      <th>166301</th>\n",
       "      <td>1786561018</td>\n",
       "      <td>Magdeburger Moderne</td>\n",
       "      <td>NaN</td>\n",
       "      <td>2020</td>\n",
       "      <td>NaN</td>\n",
       "      <td>Architektur</td>\n",
       "      <td>NaN</td>\n",
       "      <td>NaN</td>\n",
       "      <td>15.48|21.71|56.62|Architekturgeschichte</td>\n",
       "      <td>[15.48, 21.71, 56.62, Architekturgeschichte]</td>\n",
       "      <td>False</td>\n",
       "    </tr>\n",
       "    <tr>\n",
       "      <th>134432</th>\n",
       "      <td>1771734981</td>\n",
       "      <td>dPal sa-skyavi zhal-vdon phyogs-bsdus</td>\n",
       "      <td>NaN</td>\n",
       "      <td>2018</td>\n",
       "      <td>NaN</td>\n",
       "      <td>Saskya</td>\n",
       "      <td>NaN</td>\n",
       "      <td>NaN</td>\n",
       "      <td>Tibetisch|Buddhismus</td>\n",
       "      <td>[Tibetisch, Buddhismus]</td>\n",
       "      <td>False</td>\n",
       "    </tr>\n",
       "    <tr>\n",
       "      <th>222296</th>\n",
       "      <td>1849756821</td>\n",
       "      <td>Deutsche Werbegeschichte</td>\n",
       "      <td>Rings</td>\n",
       "      <td>2015</td>\n",
       "      <td>NaN</td>\n",
       "      <td>Werbeplakat</td>\n",
       "      <td>NaN</td>\n",
       "      <td>NaN</td>\n",
       "      <td>21.82||z|Geschichte|21.37</td>\n",
       "      <td>[21.82, , z, Geschichte, 21.37]</td>\n",
       "      <td>False</td>\n",
       "    </tr>\n",
       "    <tr>\n",
       "      <th>79417</th>\n",
       "      <td>1656103311</td>\n",
       "      <td>The @Sufi doctrine of man</td>\n",
       "      <td>NaN</td>\n",
       "      <td>2014</td>\n",
       "      <td>Preliminary Material -- Introduction -- Life a...</td>\n",
       "      <td>Menschenbild</td>\n",
       "      <td>Ṣadr al-Dīn al-Qūnawī, Muḥammad ibn Isḥāq -127...</td>\n",
       "      <td>NaN</td>\n",
       "      <td>|11.83</td>\n",
       "      <td>[, 11.83]</td>\n",
       "      <td>False</td>\n",
       "    </tr>\n",
       "    <tr>\n",
       "      <th>68161</th>\n",
       "      <td>1748692968</td>\n",
       "      <td>Le @conjoint en droit pénal comparé français e...</td>\n",
       "      <td>Al Chami</td>\n",
       "      <td>2014</td>\n",
       "      <td>Cette thèse porte sur l'étude de \"conjoint en ...</td>\n",
       "      <td>NaN</td>\n",
       "      <td>NaN</td>\n",
       "      <td>NaN</td>\n",
       "      <td>familienrecht</td>\n",
       "      <td>[familienrecht]</td>\n",
       "      <td>False</td>\n",
       "    </tr>\n",
       "    <tr>\n",
       "      <th>67315</th>\n",
       "      <td>1772065617</td>\n",
       "      <td>Le @Miroir des Faits</td>\n",
       "      <td>Thévenin</td>\n",
       "      <td>2014</td>\n",
       "      <td>Dans la longue histoire du droit civil romain,...</td>\n",
       "      <td>NaN</td>\n",
       "      <td>NaN</td>\n",
       "      <td>NaN</td>\n",
       "      <td>86.09|rechtsphilosophie</td>\n",
       "      <td>[86.09, rechtsphilosophie]</td>\n",
       "      <td>False</td>\n",
       "    </tr>\n",
       "    <tr>\n",
       "      <th>214814</th>\n",
       "      <td>1837610738</td>\n",
       "      <td>Dvoe na kryše</td>\n",
       "      <td>NaN</td>\n",
       "      <td>2017</td>\n",
       "      <td>NaN</td>\n",
       "      <td>NaN</td>\n",
       "      <td>Short stories, Russian</td>\n",
       "      <td>NaN</td>\n",
       "      <td>Texte eines einzelnen Autors</td>\n",
       "      <td>[Texte eines einzelnen Autors]</td>\n",
       "      <td>False</td>\n",
       "    </tr>\n",
       "    <tr>\n",
       "      <th>173519</th>\n",
       "      <td>1765356431</td>\n",
       "      <td>Restoring democracy</td>\n",
       "      <td>NaN</td>\n",
       "      <td>2020</td>\n",
       "      <td>\"From author of the Globe and Mail bestseller,...</td>\n",
       "      <td>Demokratie</td>\n",
       "      <td>Democracy</td>\n",
       "      <td>NaN</td>\n",
       "      <td>demokratie</td>\n",
       "      <td>[demokratie]</td>\n",
       "      <td>False</td>\n",
       "    </tr>\n",
       "    <tr>\n",
       "      <th>100315</th>\n",
       "      <td>1662389043</td>\n",
       "      <td>Basics Design 07</td>\n",
       "      <td>NaN</td>\n",
       "      <td>2012</td>\n",
       "      <td>NaN</td>\n",
       "      <td>NaN</td>\n",
       "      <td>Grids (Typographic design)</td>\n",
       "      <td>NaN</td>\n",
       "      <td>|21.37|06.22</td>\n",
       "      <td>[, 21.37, 06.22]</td>\n",
       "      <td>False</td>\n",
       "    </tr>\n",
       "  </tbody>\n",
       "</table>\n",
       "</div>"
      ],
      "text/plain": [
       "               PPN                                              Title  \\\n",
       "105504  1655338080  Campus und Profession - Pfarrdienst in der Eva...   \n",
       "166301  1786561018                                Magdeburger Moderne   \n",
       "134432  1771734981              dPal sa-skyavi zhal-vdon phyogs-bsdus   \n",
       "222296  1849756821                           Deutsche Werbegeschichte   \n",
       "79417   1656103311                          The @Sufi doctrine of man   \n",
       "68161   1748692968  Le @conjoint en droit pénal comparé français e...   \n",
       "67315   1772065617                               Le @Miroir des Faits   \n",
       "214814  1837610738                                      Dvoe na kryše   \n",
       "173519  1765356431                                Restoring democracy   \n",
       "100315  1662389043                                   Basics Design 07   \n",
       "\n",
       "          Author  Year                                            Summary  \\\n",
       "105504       NaN  2012  Die evangelischen Studierendengemeinden (ESG) ...   \n",
       "166301       NaN  2020                                                NaN   \n",
       "134432       NaN  2018                                                NaN   \n",
       "222296     Rings  2015                                                NaN   \n",
       "79417        NaN  2014  Preliminary Material -- Introduction -- Life a...   \n",
       "68161   Al Chami  2014  Cette thèse porte sur l'étude de \"conjoint en ...   \n",
       "67315   Thévenin  2014  Dans la longue histoire du droit civil romain,...   \n",
       "214814       NaN  2017                                                NaN   \n",
       "173519       NaN  2020  \"From author of the Globe and Mail bestseller,...   \n",
       "100315       NaN  2012                                                NaN   \n",
       "\n",
       "            Keywords                                       LOC_Keywords  \\\n",
       "105504           NaN                                                NaN   \n",
       "166301   Architektur                                                NaN   \n",
       "134432        Saskya                                                NaN   \n",
       "222296   Werbeplakat                                                NaN   \n",
       "79417   Menschenbild  Ṣadr al-Dīn al-Qūnawī, Muḥammad ibn Isḥāq -127...   \n",
       "68161            NaN                                                NaN   \n",
       "67315            NaN                                                NaN   \n",
       "214814           NaN                             Short stories, Russian   \n",
       "173519    Demokratie                                          Democracy   \n",
       "100315           NaN                         Grids (Typographic design)   \n",
       "\n",
       "                                       RVK  \\\n",
       "105504  Studentengemeinde/Studentenmission   \n",
       "166301                                 NaN   \n",
       "134432                                 NaN   \n",
       "222296                                 NaN   \n",
       "79417                                  NaN   \n",
       "68161                                  NaN   \n",
       "67315                                  NaN   \n",
       "214814                                 NaN   \n",
       "173519                                 NaN   \n",
       "100315                                 NaN   \n",
       "\n",
       "                                             BK  \\\n",
       "105504                  2DEsl|11.76|81.80|11.55   \n",
       "166301  15.48|21.71|56.62|Architekturgeschichte   \n",
       "134432                     Tibetisch|Buddhismus   \n",
       "222296                21.82||z|Geschichte|21.37   \n",
       "79417                                    |11.83   \n",
       "68161                             familienrecht   \n",
       "67315                   86.09|rechtsphilosophie   \n",
       "214814             Texte eines einzelnen Autors   \n",
       "173519                               demokratie   \n",
       "100315                             |21.37|06.22   \n",
       "\n",
       "                                            BK_split  BK_all_numeric  \n",
       "105504                  [2DEsl, 11.76, 81.80, 11.55]           False  \n",
       "166301  [15.48, 21.71, 56.62, Architekturgeschichte]           False  \n",
       "134432                       [Tibetisch, Buddhismus]           False  \n",
       "222296               [21.82, , z, Geschichte, 21.37]           False  \n",
       "79417                                      [, 11.83]           False  \n",
       "68161                                [familienrecht]           False  \n",
       "67315                     [86.09, rechtsphilosophie]           False  \n",
       "214814                [Texte eines einzelnen Autors]           False  \n",
       "173519                                  [demokratie]           False  \n",
       "100315                              [, 21.37, 06.22]           False  "
      ]
     },
     "execution_count": 7,
     "metadata": {},
     "output_type": "execute_result"
    }
   ],
   "source": [
    "def is_number(value):\n",
    "    try:\n",
    "        float(value)\n",
    "        return True\n",
    "    except ValueError:\n",
    "        return False\n",
    "    \n",
    "# Step 1: Clean and preprocess\n",
    "final_df[\"BK_split\"] = final_df[\"BK\"].fillna(\"\").apply(lambda x: x.split(\"|\") if x else [])\n",
    "# Apply to each list of BK codes\n",
    "final_df[\"BK_all_numeric\"] = final_df[\"BK_split\"].apply(lambda bk_list: all(is_number(x) for x in bk_list))\n",
    "final_df[final_df[\"BK_all_numeric\"]== False].sample(10)"
   ]
  },
  {
   "cell_type": "code",
   "execution_count": 8,
   "id": "03d6ea5f",
   "metadata": {},
   "outputs": [
    {
     "name": "stdout",
     "output_type": "stream",
     "text": [
      "DF shape before removing non-num labels: (251172, 11)\n",
      "DF shape after removing non-num labels: (251149, 11)\n"
     ]
    }
   ],
   "source": [
    "print(f\"DF shape before removing non-num labels: {final_df.shape}\")\n",
    "final_df = final_df[final_df['BK_all_numeric'] == True]\n",
    "print(f\"DF shape after removing non-num labels: {final_df.shape}\")"
   ]
  },
  {
   "cell_type": "code",
   "execution_count": 9,
   "id": "09462604",
   "metadata": {},
   "outputs": [
    {
     "data": {
      "image/png": "[encoded data removed]",
      "text/plain": [
       "<Figure size 1000x600 with 1 Axes>"
      ]
     },
     "metadata": {},
     "output_type": "display_data"
    }
   ],
   "source": [
    "# Flatten list of labels\n",
    "all_labels = [label for sublist in final_df[\"BK_split\"] for label in sublist]\n",
    "label_counts = Counter(all_labels)\n",
    "\n",
    "# Convert to DataFrame\n",
    "freq_df = pd.DataFrame(label_counts.items(), columns=[\"BK_Code\", \"Frequency\"]).sort_values(by=\"Frequency\", ascending=False)\n",
    "\n",
    "# Plot Top N\n",
    "top_n = 30\n",
    "plt.figure(figsize=(10, 6))\n",
    "sns.barplot(data=freq_df.head(top_n), x=\"Frequency\", y=\"BK_Code\")\n",
    "plt.title(f\"Top {top_n} Most Frequent BK Labels\")\n",
    "plt.xlabel(\"Frequency\")\n",
    "plt.ylabel(\"BK Code\")\n",
    "plt.tight_layout()\n",
    "plt.show()\n"
   ]
  },
  {
   "cell_type": "code",
   "execution_count": 10,
   "id": "31ee13d1",
   "metadata": {},
   "outputs": [
    {
     "data": {
      "text/html": [
       "<div>\n",
       "<style scoped>\n",
       "    .dataframe tbody tr th:only-of-type {\n",
       "        vertical-align: middle;\n",
       "    }\n",
       "\n",
       "    .dataframe tbody tr th {\n",
       "        vertical-align: top;\n",
       "    }\n",
       "\n",
       "    .dataframe thead th {\n",
       "        text-align: right;\n",
       "    }\n",
       "</style>\n",
       "<table border=\"1\" class=\"dataframe\">\n",
       "  <thead>\n",
       "    <tr style=\"text-align: right;\">\n",
       "      <th></th>\n",
       "      <th>01.00</th>\n",
       "      <th>01.10</th>\n",
       "      <th>01.11</th>\n",
       "      <th>01.14</th>\n",
       "      <th>01.18</th>\n",
       "      <th>01.20</th>\n",
       "      <th>01.22</th>\n",
       "      <th>01.24</th>\n",
       "      <th>01.25</th>\n",
       "      <th>01.29</th>\n",
       "      <th>...</th>\n",
       "      <th>89.85</th>\n",
       "      <th>89.86</th>\n",
       "      <th>89.87</th>\n",
       "      <th>89.89</th>\n",
       "      <th>89.90</th>\n",
       "      <th>89.91</th>\n",
       "      <th>89.92</th>\n",
       "      <th>89.93</th>\n",
       "      <th>89.94</th>\n",
       "      <th>89.99</th>\n",
       "    </tr>\n",
       "  </thead>\n",
       "  <tbody>\n",
       "    <tr>\n",
       "      <th>73.96</th>\n",
       "      <td>0.0</td>\n",
       "      <td>0.0</td>\n",
       "      <td>0.0</td>\n",
       "      <td>0.0</td>\n",
       "      <td>0.0</td>\n",
       "      <td>0.0</td>\n",
       "      <td>0.0</td>\n",
       "      <td>0.0</td>\n",
       "      <td>0.0</td>\n",
       "      <td>0.0</td>\n",
       "      <td>...</td>\n",
       "      <td>0.0</td>\n",
       "      <td>0.0</td>\n",
       "      <td>0.0</td>\n",
       "      <td>0.0</td>\n",
       "      <td>0.0</td>\n",
       "      <td>0.0</td>\n",
       "      <td>0.0</td>\n",
       "      <td>0.0</td>\n",
       "      <td>0.0</td>\n",
       "      <td>0.0</td>\n",
       "    </tr>\n",
       "    <tr>\n",
       "      <th>17.90</th>\n",
       "      <td>0.0</td>\n",
       "      <td>0.0</td>\n",
       "      <td>0.0</td>\n",
       "      <td>0.0</td>\n",
       "      <td>0.0</td>\n",
       "      <td>0.0</td>\n",
       "      <td>0.0</td>\n",
       "      <td>0.0</td>\n",
       "      <td>0.0</td>\n",
       "      <td>0.0</td>\n",
       "      <td>...</td>\n",
       "      <td>0.0</td>\n",
       "      <td>0.0</td>\n",
       "      <td>0.0</td>\n",
       "      <td>0.0</td>\n",
       "      <td>1.0</td>\n",
       "      <td>0.0</td>\n",
       "      <td>0.0</td>\n",
       "      <td>0.0</td>\n",
       "      <td>1.0</td>\n",
       "      <td>0.0</td>\n",
       "    </tr>\n",
       "    <tr>\n",
       "      <th>89.91</th>\n",
       "      <td>0.0</td>\n",
       "      <td>0.0</td>\n",
       "      <td>0.0</td>\n",
       "      <td>0.0</td>\n",
       "      <td>0.0</td>\n",
       "      <td>0.0</td>\n",
       "      <td>0.0</td>\n",
       "      <td>0.0</td>\n",
       "      <td>0.0</td>\n",
       "      <td>0.0</td>\n",
       "      <td>...</td>\n",
       "      <td>0.0</td>\n",
       "      <td>0.0</td>\n",
       "      <td>0.0</td>\n",
       "      <td>0.0</td>\n",
       "      <td>3.0</td>\n",
       "      <td>0.0</td>\n",
       "      <td>1.0</td>\n",
       "      <td>2.0</td>\n",
       "      <td>0.0</td>\n",
       "      <td>0.0</td>\n",
       "    </tr>\n",
       "    <tr>\n",
       "      <th>44.70</th>\n",
       "      <td>0.0</td>\n",
       "      <td>0.0</td>\n",
       "      <td>0.0</td>\n",
       "      <td>0.0</td>\n",
       "      <td>0.0</td>\n",
       "      <td>0.0</td>\n",
       "      <td>0.0</td>\n",
       "      <td>0.0</td>\n",
       "      <td>0.0</td>\n",
       "      <td>0.0</td>\n",
       "      <td>...</td>\n",
       "      <td>0.0</td>\n",
       "      <td>0.0</td>\n",
       "      <td>0.0</td>\n",
       "      <td>0.0</td>\n",
       "      <td>0.0</td>\n",
       "      <td>0.0</td>\n",
       "      <td>0.0</td>\n",
       "      <td>0.0</td>\n",
       "      <td>0.0</td>\n",
       "      <td>0.0</td>\n",
       "    </tr>\n",
       "    <tr>\n",
       "      <th>15.43</th>\n",
       "      <td>0.0</td>\n",
       "      <td>0.0</td>\n",
       "      <td>0.0</td>\n",
       "      <td>0.0</td>\n",
       "      <td>1.0</td>\n",
       "      <td>0.0</td>\n",
       "      <td>1.0</td>\n",
       "      <td>0.0</td>\n",
       "      <td>0.0</td>\n",
       "      <td>0.0</td>\n",
       "      <td>...</td>\n",
       "      <td>0.0</td>\n",
       "      <td>27.0</td>\n",
       "      <td>3.0</td>\n",
       "      <td>1.0</td>\n",
       "      <td>63.0</td>\n",
       "      <td>34.0</td>\n",
       "      <td>16.0</td>\n",
       "      <td>1.0</td>\n",
       "      <td>4.0</td>\n",
       "      <td>3.0</td>\n",
       "    </tr>\n",
       "  </tbody>\n",
       "</table>\n",
       "<p>5 rows × 2076 columns</p>\n",
       "</div>"
      ],
      "text/plain": [
       "       01.00  01.10  01.11  01.14  01.18  01.20  01.22  01.24  01.25  01.29  \\\n",
       "73.96    0.0    0.0    0.0    0.0    0.0    0.0    0.0    0.0    0.0    0.0   \n",
       "17.90    0.0    0.0    0.0    0.0    0.0    0.0    0.0    0.0    0.0    0.0   \n",
       "89.91    0.0    0.0    0.0    0.0    0.0    0.0    0.0    0.0    0.0    0.0   \n",
       "44.70    0.0    0.0    0.0    0.0    0.0    0.0    0.0    0.0    0.0    0.0   \n",
       "15.43    0.0    0.0    0.0    0.0    1.0    0.0    1.0    0.0    0.0    0.0   \n",
       "\n",
       "       ...  89.85  89.86  89.87  89.89  89.90  89.91  89.92  89.93  89.94  \\\n",
       "73.96  ...    0.0    0.0    0.0    0.0    0.0    0.0    0.0    0.0    0.0   \n",
       "17.90  ...    0.0    0.0    0.0    0.0    1.0    0.0    0.0    0.0    1.0   \n",
       "89.91  ...    0.0    0.0    0.0    0.0    3.0    0.0    1.0    2.0    0.0   \n",
       "44.70  ...    0.0    0.0    0.0    0.0    0.0    0.0    0.0    0.0    0.0   \n",
       "15.43  ...    0.0   27.0    3.0    1.0   63.0   34.0   16.0    1.0    4.0   \n",
       "\n",
       "       89.99  \n",
       "73.96    0.0  \n",
       "17.90    0.0  \n",
       "89.91    0.0  \n",
       "44.70    0.0  \n",
       "15.43    3.0  \n",
       "\n",
       "[5 rows x 2076 columns]"
      ]
     },
     "execution_count": 10,
     "metadata": {},
     "output_type": "execute_result"
    }
   ],
   "source": [
    "# Unique labels\n",
    "unique_labels = sorted(set(all_labels))\n",
    "label_index = {label: idx for idx, label in enumerate(unique_labels)}\n",
    "\n",
    "# Initialize co-occurrence matrix\n",
    "co_matrix = np.zeros((len(unique_labels), len(unique_labels)))\n",
    "\n",
    "# Fill co-occurrence matrix\n",
    "for labels in final_df[\"BK_split\"]:\n",
    "    for l1, l2 in combinations(set(labels), 2):\n",
    "        i, j = label_index[l1], label_index[l2]\n",
    "        co_matrix[i, j] += 1\n",
    "        co_matrix[j, i] += 1  # symmetric\n",
    "\n",
    "# Convert to DataFrame\n",
    "co_df = pd.DataFrame(co_matrix, index=unique_labels, columns=unique_labels)\n",
    "\n",
    "co_df.sample(5)"
   ]
  },
  {
   "cell_type": "code",
   "execution_count": 11,
   "id": "a2184640",
   "metadata": {},
   "outputs": [
    {
     "data": {
      "image/png": "[encoded data removed]",
      "text/plain": [
       "<Figure size 1200x1000 with 2 Axes>"
      ]
     },
     "metadata": {},
     "output_type": "display_data"
    }
   ],
   "source": [
    "# Optionally filter top labels for visibility\n",
    "top_labels = [x[0] for x in label_counts.most_common(15)]\n",
    "co_df_top = co_df.loc[top_labels, top_labels]\n",
    "\n",
    "plt.figure(figsize=(12, 10))\n",
    "sns.heatmap(co_df_top, annot=True, fmt=\".0f\", cmap=\"Blues\")\n",
    "plt.title(\"Co-occurrence of Top BK Codes\")\n",
    "plt.tight_layout()\n",
    "plt.show()\n"
   ]
  },
  {
   "cell_type": "code",
   "execution_count": 12,
   "id": "437e0cb6",
   "metadata": {},
   "outputs": [
    {
     "name": "stdout",
     "output_type": "stream",
     "text": [
      "count    251149.000000\n",
      "mean          1.791646\n",
      "std           0.917208\n",
      "min           1.000000\n",
      "25%           1.000000\n",
      "50%           2.000000\n",
      "75%           2.000000\n",
      "max          10.000000\n",
      "Name: num_labels, dtype: float64\n",
      "num_labels\n",
      "1     114523\n",
      "2      90809\n",
      "3      34026\n",
      "4       8508\n",
      "5       2321\n",
      "6        712\n",
      "7        185\n",
      "8         42\n",
      "9         19\n",
      "10         4\n",
      "Name: count, dtype: int64\n"
     ]
    }
   ],
   "source": [
    "# Calculate number of labels per row\n",
    "final_df[\"num_labels\"] = final_df[\"BK_split\"].apply(len)\n",
    "\n",
    "# Summary statistics (optional)\n",
    "print(final_df[\"num_labels\"].describe())\n",
    "print(final_df[\"num_labels\"].value_counts().sort_index())"
   ]
  },
  {
   "cell_type": "code",
   "execution_count": 13,
   "id": "6882f362",
   "metadata": {},
   "outputs": [
    {
     "data": {
      "image/png": "[encoded data removed]",
      "text/plain": [
       "<Figure size 800x500 with 1 Axes>"
      ]
     },
     "metadata": {},
     "output_type": "display_data"
    }
   ],
   "source": [
    "plt.figure(figsize=(8, 5))\n",
    "sns.histplot(final_df[\"num_labels\"], bins=range(1, final_df[\"num_labels\"].max() + 2), discrete=True)\n",
    "plt.title(\"Distribution of Number of Labels per Record\")\n",
    "plt.xlabel(\"Number of BK Labels\")\n",
    "plt.ylabel(\"Count of Records\")\n",
    "plt.xticks(range(1, final_df[\"num_labels\"].max() + 1))\n",
    "plt.tight_layout()\n",
    "plt.show()"
   ]
  },
  {
   "cell_type": "code",
   "execution_count": 14,
   "id": "11176852",
   "metadata": {},
   "outputs": [
    {
     "name": "stdout",
     "output_type": "stream",
     "text": [
      "Average number of labels per record: 1.79\n",
      "Most common label count: 1\n"
     ]
    }
   ],
   "source": [
    "mean_labels = final_df[\"num_labels\"].mean()\n",
    "mode_labels = final_df[\"num_labels\"].mode()[0]\n",
    "print(f\"Average number of labels per record: {mean_labels:.2f}\")\n",
    "print(f\"Most common label count: {mode_labels}\")\n"
   ]
  },
  {
   "cell_type": "code",
   "execution_count": 15,
   "id": "074a4338",
   "metadata": {},
   "outputs": [
    {
     "name": "stdout",
     "output_type": "stream",
     "text": [
      "Original records: 251149\n",
      "Filtered records (<=6 labels): 250899\n"
     ]
    }
   ],
   "source": [
    "final_df_filtered = final_df[final_df[\"num_labels\"] <= 6].copy()\n",
    "print(f\"Original records: {len(final_df)}\")\n",
    "print(f\"Filtered records (<=6 labels): {len(final_df_filtered)}\")\n"
   ]
  },
  {
   "cell_type": "code",
   "execution_count": 25,
   "id": "bfbea4dd",
   "metadata": {},
   "outputs": [
    {
     "name": "stdout",
     "output_type": "stream",
     "text": [
      "(250388, 12)\n"
     ]
    }
   ],
   "source": [
    "content_cols = [\"Title\",\"Summary\", \"Keywords\", \"LOC_Keywords\", \"RVK\"]\n",
    "\n",
    "# Define the condition: BK is not null AND all content columns are null or empty\n",
    "mask = (\n",
    "    final_df_filtered[\"BK\"].notna() &\n",
    "    final_df_filtered[content_cols].isna().all(axis=1)\n",
    ")\n",
    "\n",
    "# Filter out those rows\n",
    "final_df_filtered_cleaned = final_df_filtered[~mask].copy()\n",
    "print(final_df_filtered_cleaned.shape)"
   ]
  },
  {
   "cell_type": "code",
   "execution_count": 26,
   "id": "51faea3c",
   "metadata": {},
   "outputs": [
    {
     "name": "stdout",
     "output_type": "stream",
     "text": [
      "Removed rows: 511\n",
      "               BK Title Summary Keywords LOC_Keywords  RVK\n",
      "1259  20.31|21.02   NaN     NaN      NaN          NaN  NaN\n",
      "1260  20.31|21.02   NaN     NaN      NaN          NaN  NaN\n",
      "1385  31.14|31.04   NaN     NaN      NaN          NaN  NaN\n",
      "1572        06.14   NaN     NaN      NaN          NaN  NaN\n",
      "2014  52.71|85.38   NaN     NaN      NaN          NaN  NaN\n"
     ]
    }
   ],
   "source": [
    "df_removed = final_df_filtered[mask]\n",
    "print(f\"Removed rows: {len(df_removed)}\")\n",
    "print(df_removed[[\"BK\"] + content_cols].head())\n"
   ]
  },
  {
   "cell_type": "code",
   "execution_count": 27,
   "id": "b5859647",
   "metadata": {},
   "outputs": [
    {
     "data": {
      "text/html": [
       "<div>\n",
       "<style scoped>\n",
       "    .dataframe tbody tr th:only-of-type {\n",
       "        vertical-align: middle;\n",
       "    }\n",
       "\n",
       "    .dataframe tbody tr th {\n",
       "        vertical-align: top;\n",
       "    }\n",
       "\n",
       "    .dataframe thead th {\n",
       "        text-align: right;\n",
       "    }\n",
       "</style>\n",
       "<table border=\"1\" class=\"dataframe\">\n",
       "  <thead>\n",
       "    <tr style=\"text-align: right;\">\n",
       "      <th></th>\n",
       "      <th>PPN</th>\n",
       "      <th>Title</th>\n",
       "      <th>Author</th>\n",
       "      <th>Year</th>\n",
       "      <th>Summary</th>\n",
       "      <th>Keywords</th>\n",
       "      <th>LOC_Keywords</th>\n",
       "      <th>RVK</th>\n",
       "      <th>BK</th>\n",
       "      <th>BK_split</th>\n",
       "      <th>BK_all_numeric</th>\n",
       "      <th>num_labels</th>\n",
       "    </tr>\n",
       "  </thead>\n",
       "  <tbody>\n",
       "    <tr>\n",
       "      <th>0</th>\n",
       "      <td>190620330X</td>\n",
       "      <td>Netzwerke im europäischen Verwaltungsverbund</td>\n",
       "      <td>NaN</td>\n",
       "      <td>2024</td>\n",
       "      <td>Nikolaos I. Simantiras untersucht Netzwerke al...</td>\n",
       "      <td>Mehrebenen-Verflechtung</td>\n",
       "      <td>NaN</td>\n",
       "      <td>Allgemeine Darstellungen|Demokratische Staatsf...</td>\n",
       "      <td>86.86|86.47</td>\n",
       "      <td>[86.86, 86.47]</td>\n",
       "      <td>True</td>\n",
       "      <td>2</td>\n",
       "    </tr>\n",
       "    <tr>\n",
       "      <th>1</th>\n",
       "      <td>190594831X</td>\n",
       "      <td>Research handbook on disasters and internation...</td>\n",
       "      <td>NaN</td>\n",
       "      <td>2024</td>\n",
       "      <td>NaN</td>\n",
       "      <td>Internationales Umweltrecht</td>\n",
       "      <td>Disaster relief</td>\n",
       "      <td>NaN</td>\n",
       "      <td>86.62</td>\n",
       "      <td>[86.62]</td>\n",
       "      <td>True</td>\n",
       "      <td>1</td>\n",
       "    </tr>\n",
       "    <tr>\n",
       "      <th>2</th>\n",
       "      <td>1869790383</td>\n",
       "      <td>Lösungsorientierte Supervisions-Tools</td>\n",
       "      <td>NaN</td>\n",
       "      <td>2023</td>\n",
       "      <td>NaN</td>\n",
       "      <td>NaN</td>\n",
       "      <td>NaN</td>\n",
       "      <td>NaN</td>\n",
       "      <td>79.30|77.72</td>\n",
       "      <td>[79.30, 77.72]</td>\n",
       "      <td>True</td>\n",
       "      <td>2</td>\n",
       "    </tr>\n",
       "    <tr>\n",
       "      <th>3</th>\n",
       "      <td>1854114948</td>\n",
       "      <td>Reisen shūenki no Nichibei kankei</td>\n",
       "      <td>Yamaguchi</td>\n",
       "      <td>2023</td>\n",
       "      <td>NaN</td>\n",
       "      <td>Sicherheitspolitik</td>\n",
       "      <td>Security, International</td>\n",
       "      <td>Allgemein</td>\n",
       "      <td>15.80|89.70</td>\n",
       "      <td>[15.80, 89.70]</td>\n",
       "      <td>True</td>\n",
       "      <td>2</td>\n",
       "    </tr>\n",
       "    <tr>\n",
       "      <th>4</th>\n",
       "      <td>1851067329</td>\n",
       "      <td>Weidmannsheil - Blankenstein</td>\n",
       "      <td>NaN</td>\n",
       "      <td>2023</td>\n",
       "      <td>NaN</td>\n",
       "      <td>Wandern</td>\n",
       "      <td>NaN</td>\n",
       "      <td>NaN</td>\n",
       "      <td>74.20|76.79</td>\n",
       "      <td>[74.20, 76.79]</td>\n",
       "      <td>True</td>\n",
       "      <td>2</td>\n",
       "    </tr>\n",
       "  </tbody>\n",
       "</table>\n",
       "</div>"
      ],
      "text/plain": [
       "          PPN                                              Title     Author  \\\n",
       "0  190620330X       Netzwerke im europäischen Verwaltungsverbund        NaN   \n",
       "1  190594831X  Research handbook on disasters and internation...        NaN   \n",
       "2  1869790383              Lösungsorientierte Supervisions-Tools        NaN   \n",
       "3  1854114948                  Reisen shūenki no Nichibei kankei  Yamaguchi   \n",
       "4  1851067329                       Weidmannsheil - Blankenstein        NaN   \n",
       "\n",
       "   Year                                            Summary  \\\n",
       "0  2024  Nikolaos I. Simantiras untersucht Netzwerke al...   \n",
       "1  2024                                                NaN   \n",
       "2  2023                                                NaN   \n",
       "3  2023                                                NaN   \n",
       "4  2023                                                NaN   \n",
       "\n",
       "                      Keywords             LOC_Keywords  \\\n",
       "0      Mehrebenen-Verflechtung                      NaN   \n",
       "1  Internationales Umweltrecht          Disaster relief   \n",
       "2                          NaN                      NaN   \n",
       "3           Sicherheitspolitik  Security, International   \n",
       "4                      Wandern                      NaN   \n",
       "\n",
       "                                                 RVK           BK  \\\n",
       "0  Allgemeine Darstellungen|Demokratische Staatsf...  86.86|86.47   \n",
       "1                                                NaN        86.62   \n",
       "2                                                NaN  79.30|77.72   \n",
       "3                                          Allgemein  15.80|89.70   \n",
       "4                                                NaN  74.20|76.79   \n",
       "\n",
       "         BK_split  BK_all_numeric  num_labels  \n",
       "0  [86.86, 86.47]            True           2  \n",
       "1         [86.62]            True           1  \n",
       "2  [79.30, 77.72]            True           2  \n",
       "3  [15.80, 89.70]            True           2  \n",
       "4  [74.20, 76.79]            True           2  "
      ]
     },
     "execution_count": 27,
     "metadata": {},
     "output_type": "execute_result"
    }
   ],
   "source": [
    "final_df_filtered_cleaned.head()\n"
   ]
  },
  {
   "cell_type": "code",
   "execution_count": 28,
   "id": "1380c5e8",
   "metadata": {},
   "outputs": [
    {
     "data": {
      "text/plain": [
       "194"
      ]
     },
     "execution_count": 28,
     "metadata": {},
     "output_type": "execute_result"
    }
   ],
   "source": [
    "import pandas as pd\n",
    "from collections import Counter\n",
    "import itertools\n",
    "\n",
    "# Step 1: Analyze label frequency\n",
    "all_labels = list(itertools.chain.from_iterable([str(bk).split(\"|\") for bk in final_df_filtered_cleaned[\"BK\"].dropna()]))\n",
    "label_counts = Counter(all_labels)\n",
    "\n",
    "# Step 2: Filter very rare labels (e.g., labels that appear only once)\n",
    "threshold = 10\n",
    "filtered_labels = {label for label, count in label_counts.items() if count > threshold}\n",
    "\n",
    "# Show results\n",
    "label_counts_df = pd.DataFrame(label_counts.items(), columns=[\"Label\", \"Frequency\"]).sort_values(by=\"Frequency\", ascending=False)\n",
    "rare_labels = [label for label, count in label_counts.items() if count <= threshold]\n",
    "\n",
    "# import ace_tools as tools; tools.display_dataframe_to_user(name=\"Label Frequency Analysis\", dataframe=label_counts_df)\n",
    "\n",
    "len(rare_labels)"
   ]
  },
  {
   "cell_type": "code",
   "execution_count": 29,
   "id": "b5fb300f",
   "metadata": {},
   "outputs": [
    {
     "name": "stderr",
     "output_type": "stream",
     "text": [
      "/tmp/ipykernel_3926927/4177583817.py:12: FutureWarning: \n",
      "\n",
      "Passing `palette` without assigning `hue` is deprecated and will be removed in v0.14.0. Assign the `x` variable to `hue` and set `legend=False` for the same effect.\n",
      "\n",
      "  sns.barplot(data=label_df[label_df[\"Frequency\"] >= 50], x=\"Label\", y=\"Frequency\", palette=\"viridis\")\n"
     ]
    },
    {
     "data": {
      "image/png": "[encoded data removed]",
      "text/plain": [
       "<Figure size 1200x600 with 1 Axes>"
      ]
     },
     "metadata": {},
     "output_type": "display_data"
    }
   ],
   "source": [
    "# Step 1: Analyze Label Frequency\n",
    "all_labels = []\n",
    "for bk in final_df_filtered_cleaned[\"BK\"]:\n",
    "    if pd.notna(bk):\n",
    "        all_labels.extend(bk.split(\"|\"))\n",
    "\n",
    "label_counts = Counter(all_labels)\n",
    "label_df = pd.DataFrame(label_counts.items(), columns=[\"Label\", \"Frequency\"]).sort_values(by=\"Frequency\", ascending=False)\n",
    "\n",
    "# Step 2: Visualize Label Distribution\n",
    "plt.figure(figsize=(12, 6))\n",
    "sns.barplot(data=label_df[label_df[\"Frequency\"] >= 50], x=\"Label\", y=\"Frequency\", palette=\"viridis\")\n",
    "plt.title(\"BK Label Frequency (labels with frequency >= 2)\")\n",
    "plt.xticks(rotation=45)\n",
    "plt.tight_layout()\n",
    "plt.show()\n",
    "\n",
    "# Step 3: Filter Out Rare Labels (frequency < 2)\n",
    "rare_labels = set(label_df[label_df[\"Frequency\"] < 50][\"Label\"])"
   ]
  },
  {
   "cell_type": "code",
   "execution_count": 30,
   "id": "8fd568fc",
   "metadata": {},
   "outputs": [
    {
     "data": {
      "text/plain": [
       "721"
      ]
     },
     "execution_count": 30,
     "metadata": {},
     "output_type": "execute_result"
    }
   ],
   "source": [
    "len(rare_labels)\n"
   ]
  },
  {
   "cell_type": "code",
   "execution_count": 31,
   "id": "a77b1334",
   "metadata": {},
   "outputs": [],
   "source": [
    "def filter_rare(row):\n",
    "    labels = str(row).split(\"|\")\n",
    "    filtered = [l for l in labels if l not in rare_labels]\n",
    "    return \"|\".join(filtered) if filtered else None\n",
    "\n",
    "final_df_filtered_cleaned[\"BK\"] = final_df_filtered_cleaned[\"BK\"].apply(filter_rare)\n"
   ]
  },
  {
   "cell_type": "code",
   "execution_count": 32,
   "id": "356bc948",
   "metadata": {},
   "outputs": [
    {
     "data": {
      "text/plain": [
       "(245784, 12)"
      ]
     },
     "execution_count": 32,
     "metadata": {},
     "output_type": "execute_result"
    }
   ],
   "source": [
    "final_df_filtered_cleaned[~final_df_filtered_cleaned[\"BK\"].isna()].shape"
   ]
  },
  {
   "cell_type": "code",
   "execution_count": 33,
   "id": "7c17bea0",
   "metadata": {},
   "outputs": [],
   "source": [
    "final_df_filtered_cleaned[~final_df_filtered_cleaned[\"BK\"].isna()].to_csv(\"data/k10plus_processed_rare_label_removed.csv\")"
   ]
  },
  {
   "cell_type": "code",
   "execution_count": 34,
   "id": "7a7b1602",
   "metadata": {},
   "outputs": [],
   "source": [
    "final_df_filtered_cleaned = final_df_filtered_cleaned[~final_df_filtered_cleaned[\"BK\"].isna()]"
   ]
  },
  {
   "cell_type": "code",
   "execution_count": 35,
   "id": "9c2f8212",
   "metadata": {},
   "outputs": [
    {
     "name": "stdout",
     "output_type": "stream",
     "text": [
      "Saved label map with 1355 labels to: data/label_map.json\n"
     ]
    }
   ],
   "source": [
    "def build_and_save_label_map(bk_list, save_path=\"data/label_map.json\"):\n",
    "    \"\"\"\n",
    "    Extracts unique BK labels from pipe-separated strings, builds a label→index map,\n",
    "    and saves it as a JSON file.\n",
    "    \"\"\"\n",
    "    all_labels = set()\n",
    "\n",
    "    for entry in bk_list:\n",
    "        if pd.isna(entry) or entry.strip() == \"\":\n",
    "            continue\n",
    "        labels = [label.strip() for label in entry.split(\"|\") if label.strip()]\n",
    "        all_labels.update(labels)\n",
    "\n",
    "    # Build sorted label → index map\n",
    "    label_map = {label: idx for idx, label in enumerate(sorted(all_labels))}\n",
    "\n",
    "    # Ensure output folder exists\n",
    "    os.makedirs(os.path.dirname(save_path), exist_ok=True)\n",
    "\n",
    "    # Save to JSON\n",
    "    with open(save_path, \"w\") as f:\n",
    "        json.dump(label_map, f, indent=2)\n",
    "\n",
    "    print(f\"Saved label map with {len(label_map)} labels to: {save_path}\")\n",
    "    return label_map\n",
    "\n",
    "label_map = build_and_save_label_map(final_df_filtered_cleaned[\"BK\"].tolist(), save_path=\"data/label_map.json\")\n"
   ]
  },
  {
   "cell_type": "code",
   "execution_count": 23,
   "id": "9a46a0ac",
   "metadata": {},
   "outputs": [
    {
     "name": "stdout",
     "output_type": "stream",
     "text": [
      "Loading from: /cephfs/users/bashir/basis_classification/data/label_map.json\n",
      "{}\n"
     ]
    }
   ],
   "source": [
    "import os\n",
    "\n",
    "label_map_path = os.path.abspath(\"data/label_map.json\")\n",
    "print(f\"Loading from: {label_map_path}\")\n",
    "with open(label_map_path, \"r\") as f:\n",
    "    label_map = json.load(f)\n",
    "print(label_map)"
   ]
  },
  {
   "cell_type": "code",
   "execution_count": 23,
   "id": "cee3367f",
   "metadata": {},
   "outputs": [],
   "source": [
    "def convert_labels_to_binary(bk_list, label_map=None):\n",
    "    \"\"\"\n",
    "    Converts BK codes to multi-hot binary labels.\n",
    "    Args:\n",
    "        bk_list (List[str]): list of BK values like \"86.86|86.47\"\n",
    "        label_map (Dict[str, int], optional): existing mapping of label to index\n",
    "    Returns:\n",
    "        List[List[int]], Dict[str, int]: binary label list, and updated label_map\n",
    "    \"\"\"\n",
    "    all_labels = set()\n",
    "    processed_bk = []\n",
    "\n",
    "    for entry in bk_list:\n",
    "        labels = str(entry).split('|') if pd.notna(entry) else []\n",
    "        processed_bk.append(labels)\n",
    "        all_labels.update(labels)\n",
    "\n",
    "    if label_map is None:\n",
    "        label_map = {label: idx for idx, label in enumerate(sorted(all_labels))}\n",
    "\n",
    "    binary_labels = []\n",
    "    for labels in processed_bk:\n",
    "        label_vec = [0] * len(label_map)\n",
    "        for label in labels:\n",
    "            if label in label_map:\n",
    "                label_vec[label_map[label]] = 1\n",
    "        binary_labels.append(label_vec)\n",
    "\n",
    "    return binary_labels\n",
    "\n",
    "# binary_labels, label_map = convert_labels_to_binary(final_df_filtered_cleaned[\"BK\"].tolist(),label_map)"
   ]
  },
  {
   "cell_type": "code",
   "execution_count": 3,
   "id": "f4dd26f9",
   "metadata": {},
   "outputs": [],
   "source": [
    "def convert_labels_to_binary(bk_list, label_map):\n",
    "    \"\"\"\n",
    "    Converts BK codes to multi-hot binary labels of fixed length using a provided label_map.\n",
    "    \n",
    "    Args:\n",
    "        bk_list (List[str]): List of BK values like \"86.86|86.47\"\n",
    "        label_map (Dict[str, int]): Mapping from label string to index.\n",
    "    \n",
    "    Returns:\n",
    "        List[List[int]]: Multi-hot encoded labels with consistent length.\n",
    "    \"\"\"\n",
    "    label_count = len(label_map)\n",
    "    binary_labels = []\n",
    "\n",
    "    for entry in bk_list:\n",
    "        label_vec = [0] * label_count\n",
    "        labels = str(entry).split('|') if pd.notna(entry) else []\n",
    "        for label in labels:\n",
    "            if label in label_map:\n",
    "                label_vec[label_map[label]] = 1\n",
    "        binary_labels.append(label_vec)\n",
    "\n",
    "    return binary_labels"
   ]
  },
  {
   "cell_type": "code",
   "execution_count": 22,
   "id": "1f250e61",
   "metadata": {},
   "outputs": [
    {
     "data": {
      "text/plain": [
       "(250388, 14)"
      ]
     },
     "execution_count": 22,
     "metadata": {},
     "output_type": "execute_result"
    }
   ],
   "source": [
    "final_df_filtered_cleaned.shape"
   ]
  },
  {
   "cell_type": "code",
   "execution_count": 25,
   "id": "d4d2594a",
   "metadata": {},
   "outputs": [],
   "source": [
    "# print(len(binary_labels))\n",
    "# print(len(binary_labels[0]))"
   ]
  },
  {
   "cell_type": "code",
   "execution_count": 27,
   "id": "3594b12f",
   "metadata": {},
   "outputs": [],
   "source": [
    "from transformers import AutoTokenizer\n",
    "from torch.utils.data import DataLoader, TensorDataset\n",
    "import torch\n",
    "\n",
    "def transform_data(dataset, label_map, max_length=512, batch_size=64):\n",
    "    \"\"\"\n",
    "    Prepares a PyTorch DataLoader for BART-based multi-label classification on BK labels.\n",
    "    - Combines textual input from multiple columns\n",
    "    - Tokenizes using facebook/bart-large\n",
    "    - Converts BK labels into binary multi-hot vectors\n",
    "    \"\"\"\n",
    "\n",
    "    # Combine input text fields into one\n",
    "    sentences = (\n",
    "    \"Title: \" + dataset[\"Title\"].fillna('') + \"\\n\" +\n",
    "    \"Summary: \" + dataset[\"Summary\"].fillna('') + \"\\n\" +\n",
    "    \"Keywords: \" + dataset[\"Keywords\"].fillna('') + \"\\n\" +\n",
    "    \"LOC_Keywords: \" + dataset[\"LOC_Keywords\"].fillna('') + \"\\n\" +\n",
    "    \"RVK: \" + dataset[\"RVK\"].fillna('')\n",
    "    ).tolist()\n",
    "\n",
    "    # Tokenization\n",
    "    tokenizer = AutoTokenizer.from_pretrained(\"facebook/bart-large\")\n",
    "    encodings = tokenizer(sentences, truncation=True, padding=True, max_length=max_length, return_tensors='pt')\n",
    "    input_ids = encodings['input_ids']\n",
    "    attention_mask = encodings['attention_mask']\n",
    "\n",
    "    # Convert BK labels to multi-hot binary\n",
    "    bk_list = dataset[\"BK\"].tolist()\n",
    "    binary_labels = convert_labels_to_binary(bk_list, label_map=label_map)\n",
    "    binary_labels_tensor = torch.tensor(binary_labels).float()\n",
    "\n",
    "    # Build dataset and dataloader\n",
    "    tensor_dataset = TensorDataset(input_ids, attention_mask, binary_labels_tensor)\n",
    "    dataloader = DataLoader(tensor_dataset, batch_size=batch_size, shuffle=True)\n",
    "\n",
    "    return dataloader\n",
    "\n",
    "train_dataloader = transform_data(final_df_filtered_cleaned, label_map=label_map)\n"
   ]
  },
  {
   "cell_type": "code",
   "execution_count": 31,
   "id": "8338946b",
   "metadata": {},
   "outputs": [
    {
     "name": "stdout",
     "output_type": "stream",
     "text": [
      "Input IDs shape: torch.Size([64, 512])\n",
      "Attention mask shape: torch.Size([64, 512])\n",
      "Labels shape: torch.Size([64, 2076])\n",
      "Title: Villen und Landhäuser\n",
      "Summary: Villen und Landhäuser prägen in charakteristischer Weise das Gesicht der Hamburger Elbvororte. Viele dieser Häuser sind zwischen 1900 und 1935 erbaut worden. Ist hier ein eigener Hamburger \"Heimatstil\" entstanden? - Tatsächlich entfaltet sich zwischen Tradition und Moderne eine bemerkenswerte stilistische Vielfalt, die auch außerhalb Hamburgs genau wahrgenommen wurde. Alle namhaften Hamburger Architekten dieser Zeit bauten Wohnhäuser in den Elbvororten: von den \"Traditionalisten\" wie Walther Baedecker und Fernando Lorenzen bis zu den \"Modernen\" wie Rudolf Lodders, Werner Kallmorgen, Erich Elingius und Karl Schneider. Aber auch prominente auswärtige Architekten wie Hermann Muthesius, Martin Elsaesser und Henry van de Velde hinterließen hier ihre Spuren. Angereichert durch Analysen der Inneneinrichtung, der Gartengestaltung und der überregionalen Rezeption behandelt das Buch ein bisher weitgehend unerforschtes Kapitel der Hamburger Architekturgeschichte\n",
      "Keywords: Landhaus\n",
      "LOC_Keywords: Architecture, Domestic\n",
      "RVK: Vororte|Wohngebäude, Geschichte\n",
      "Binary labels for first sample: tensor([0., 0., 0.,  ..., 0., 0., 0.])\n"
     ]
    }
   ],
   "source": [
    "# Get first batch\n",
    "batch = next(iter(train_dataloader))\n",
    "input_ids, attention_mask, labels = batch\n",
    "\n",
    "# Inspect shapes\n",
    "print(\"Input IDs shape:\", input_ids.shape)        # e.g., (batch_size, seq_len)\n",
    "print(\"Attention mask shape:\", attention_mask.shape)\n",
    "print(\"Labels shape:\", labels.shape)\n",
    "\n",
    "# Decode first sample input\n",
    "from transformers import AutoTokenizer\n",
    "tokenizer = AutoTokenizer.from_pretrained(\"facebook/bart-large\")\n",
    "print(tokenizer.decode(input_ids[3], skip_special_tokens=True))\n",
    "\n",
    "# View corresponding label\n",
    "print(\"Binary labels for first sample:\", labels[0])\n"
   ]
  },
  {
   "cell_type": "code",
   "execution_count": null,
   "id": "50f887c3",
   "metadata": {},
   "outputs": [
    {
     "ename": "",
     "evalue": "",
     "output_type": "error",
     "traceback": [
      "\u001b[1;31mThe Kernel crashed while executing code in the current cell or a previous cell. \n",
      "\u001b[1;31mPlease review the code in the cell(s) to identify a possible cause of the failure. \n",
      "\u001b[1;31mClick <a href='https://aka.ms/vscodeJupyterKernelCrash'>here</a> for more info. \n",
      "\u001b[1;31mView Jupyter <a href='command:jupyter.viewOutput'>log</a> for further details."
     ]
    }
   ],
   "source": [
    "final_df_filtered_cleaned.to_csv(\"data/k10plus_processed.csv\")"
   ]
  }
 ],
 "metadata": {
  "kernelspec": {
   "display_name": ".llm",
   "language": "python",
   "name": "python3"
  },
  "language_info": {
   "codemirror_mode": {
    "name": "ipython",
    "version": 3
   },
   "file_extension": ".py",
   "mimetype": "text/x-python",
   "name": "python",
   "nbconvert_exporter": "python",
   "pygments_lexer": "ipython3",
   "version": "3.10.12"
  }
 },
 "nbformat": 4,
 "nbformat_minor": 5
}
